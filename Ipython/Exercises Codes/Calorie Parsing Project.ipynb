{
 "cells": [
  {
   "cell_type": "markdown",
   "metadata": {},
   "source": [
    "## Parsing Calorie Count Web Site for some calories using Python"
   ]
  },
  {
   "cell_type": "code",
   "execution_count": 1,
   "metadata": {
    "collapsed": false
   },
   "outputs": [],
   "source": [
    "from lxml import html\n",
    "from lxml import etree\n",
    "import requests\n",
    "page = requests.get('https://www.caloriecount.com/exercise')\n",
    "tree = html.fromstring(page.content)"
   ]
  },
  {
   "cell_type": "code",
   "execution_count": 2,
   "metadata": {
    "collapsed": false
   },
   "outputs": [],
   "source": [
    "ExerciseTypeLinks=tree.xpath('//*[@id=\"content\"]/div[1]/div[2]/div[1]/div[2]/ul/li/a/@href')"
   ]
  },
  {
   "cell_type": "code",
   "execution_count": 3,
   "metadata": {
    "collapsed": false
   },
   "outputs": [
    {
     "data": {
      "text/plain": [
       "['/activities-bicycling-ac1',\n",
       " '/activities-conditioning-exercise-ac2',\n",
       " '/activities-dancing-ac3',\n",
       " '/activities-fishing-hunting-ac4',\n",
       " '/activities-home-activities-ac5',\n",
       " '/activities-home-repair-ac6',\n",
       " '/activities-inactivity-ac7',\n",
       " '/activities-lawn-garden-ac8',\n",
       " '/activities-miscellaneous-ac9',\n",
       " '/activities-music-playing-ac10',\n",
       " '/activities-occupation-ac11',\n",
       " '/activities-religious-activities-ac20',\n",
       " '/activities-running-ac12',\n",
       " '/activities-self-care-hygiene-ac13',\n",
       " '/activities-sexual-activity-ac14',\n",
       " '/activities-sports-ac15',\n",
       " '/activities-transportation-ac16',\n",
       " '/activities-volunteer-activities-ac21',\n",
       " '/activities-walking-ac17',\n",
       " '/activities-water-activities-ac18',\n",
       " '/activities-winter-activities-ac19']"
      ]
     },
     "execution_count": 3,
     "metadata": {},
     "output_type": "execute_result"
    }
   ],
   "source": [
    "### Get the exercise bundle links\n",
    "ExerciseTypeLinks"
   ]
  },
  {
   "cell_type": "code",
   "execution_count": 4,
   "metadata": {
    "collapsed": false
   },
   "outputs": [
    {
     "data": {
      "text/plain": [
       "['https://www.caloriecount.com/activities-bicycling-ac1',\n",
       " 'https://www.caloriecount.com/activities-conditioning-exercise-ac2',\n",
       " 'https://www.caloriecount.com/activities-dancing-ac3',\n",
       " 'https://www.caloriecount.com/activities-fishing-hunting-ac4',\n",
       " 'https://www.caloriecount.com/activities-home-activities-ac5',\n",
       " 'https://www.caloriecount.com/activities-home-repair-ac6',\n",
       " 'https://www.caloriecount.com/activities-inactivity-ac7',\n",
       " 'https://www.caloriecount.com/activities-lawn-garden-ac8',\n",
       " 'https://www.caloriecount.com/activities-miscellaneous-ac9',\n",
       " 'https://www.caloriecount.com/activities-music-playing-ac10',\n",
       " 'https://www.caloriecount.com/activities-occupation-ac11',\n",
       " 'https://www.caloriecount.com/activities-religious-activities-ac20',\n",
       " 'https://www.caloriecount.com/activities-running-ac12',\n",
       " 'https://www.caloriecount.com/activities-self-care-hygiene-ac13',\n",
       " 'https://www.caloriecount.com/activities-sexual-activity-ac14',\n",
       " 'https://www.caloriecount.com/activities-sports-ac15',\n",
       " 'https://www.caloriecount.com/activities-transportation-ac16',\n",
       " 'https://www.caloriecount.com/activities-volunteer-activities-ac21',\n",
       " 'https://www.caloriecount.com/activities-walking-ac17',\n",
       " 'https://www.caloriecount.com/activities-water-activities-ac18',\n",
       " 'https://www.caloriecount.com/activities-winter-activities-ac19']"
      ]
     },
     "execution_count": 4,
     "metadata": {},
     "output_type": "execute_result"
    }
   ],
   "source": [
    "fl=ExerciseTypeLinks[:]\n",
    "for i in range(len(fl)):\n",
    "    fl[i]=\"https://www.caloriecount.com\"+fl[i]\n",
    "fl"
   ]
  },
  {
   "cell_type": "code",
   "execution_count": 5,
   "metadata": {
    "collapsed": false
   },
   "outputs": [
    {
     "data": {
      "text/plain": [
       "['https://www.caloriecount.com/calories-burned-aerobic-a36',\n",
       " 'https://www.caloriecount.com/calories-burned-aerobic-a40',\n",
       " 'https://www.caloriecount.com/calories-burned-aerobic-a39',\n",
       " 'https://www.caloriecount.com/calories-burned-aerobic-a38',\n",
       " 'https://www.caloriecount.com/calories-burned-aerobic-a37',\n",
       " 'https://www.caloriecount.com/calories-burned-anishinaabe-jingle-dancing-other-a45',\n",
       " 'https://www.caloriecount.com/calories-burned-ballet-modern-a35',\n",
       " 'https://www.caloriecount.com/calories-burned-ballroom-a42',\n",
       " 'https://www.caloriecount.com/calories-burned-ballroom-a43',\n",
       " 'https://www.caloriecount.com/calories-burned-ballroom-a44',\n",
       " 'https://www.caloriecount.com/calories-burned-general-a41']"
      ]
     },
     "execution_count": 5,
     "metadata": {},
     "output_type": "execute_result"
    }
   ],
   "source": [
    "    page = requests.get(fl[2])\n",
    "    tree = html.fromstring(page.content)\n",
    "    exlinks=tree.xpath('//*[@id=\"content\"]/div[1]/div[3]/ul/li/a/@href')\n",
    "    exlinks"
   ]
  },
  {
   "cell_type": "code",
   "execution_count": null,
   "metadata": {
    "collapsed": true
   },
   "outputs": [],
   "source": [
    "fo = open(\"ActivityCalories_from_caloriecount_dot_com.txt\", \"w\")\n",
    "for i in range(len(exlinks)):\n",
    "    page = requests.get(exlinks[i])\n",
    "    tree = html.fromstring(page.content)\n",
    "    print(tree.xpath('//*[@id=\"activityitem\"]/h1/text()')[0])\n",
    "    print(tree.xpath('//*[@id=\"activityitem\"]/span/text()'))\n",
    "    print(tree.xpath('//*[@id=\"activityitem\"]/text()[6]')[0])\n",
    "    print(tree.xpath('//*[@id=\"activityitem\"]/text()[3]')[0])\n"
   ]
  },
  {
   "cell_type": "raw",
   "metadata": {
    "collapsed": false
   },
   "source": [
    "Calories burned with Aerobic\n",
    "['455']\n",
    "Assuming a body weight of: 70 kg\n",
    "General\n",
    "\n",
    "Calories burned with Aerobic\n",
    "['490']\n",
    "Assuming a body weight of: 70 kg\n",
    "High Impact\n",
    "\n",
    "Calories burned with Aerobic\n",
    "['350']\n",
    "Assuming a body weight of: 70 kg\n",
    "Low Impact\n",
    "\n",
    "Calories burned with Aerobic\n",
    "['700']\n",
    "Assuming a body weight of: 70 kg\n",
    "Step, With 10 - 12 Inch Step\n",
    "\n",
    "Calories burned with Aerobic\n",
    "['595']\n",
    "Assuming a body weight of: 70 kg\n",
    "Step, With 6 - 8 Inch Step\n",
    "\n",
    "Calories burned with Anishinaabe Jingle Dancing or Other Traditional American Indian Dancing\n",
    "['385']"
   ]
  },
  {
   "cell_type": "code",
   "execution_count": null,
   "metadata": {
    "collapsed": true
   },
   "outputs": [],
   "source": []
  }
 ],
 "metadata": {
  "kernelspec": {
   "display_name": "Python 3",
   "language": "python",
   "name": "python3"
  },
  "language_info": {
   "codemirror_mode": {
    "name": "ipython",
    "version": 3
   },
   "file_extension": ".py",
   "mimetype": "text/x-python",
   "name": "python",
   "nbconvert_exporter": "python",
   "pygments_lexer": "ipython3",
   "version": "3.5.1"
  }
 },
 "nbformat": 4,
 "nbformat_minor": 0
}
