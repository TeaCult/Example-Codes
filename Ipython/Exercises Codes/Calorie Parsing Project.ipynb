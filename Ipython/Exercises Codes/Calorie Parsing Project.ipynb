{
 "cells": [
  {
   "cell_type": "markdown",
   "metadata": {},
   "source": [
    "## Testing to Parse"
   ]
  },
  {
   "cell_type": "code",
   "execution_count": 46,
   "metadata": {
    "collapsed": false
   },
   "outputs": [],
   "source": [
    "from lxml import html\n",
    "from lxml import etree\n",
    "import requests\n",
    "page = requests.get('https://www.caloriecount.com/exercise')\n",
    "tree = html.fromstring(page.content)"
   ]
  },
  {
   "cell_type": "code",
   "execution_count": 47,
   "metadata": {
    "collapsed": false
   },
   "outputs": [],
   "source": [
    "ExerciseTypeLinks=tree.xpath('//*[@id=\"content\"]/div[1]/div[2]/div[1]/div[2]/ul/li/a/@href')"
   ]
  },
  {
   "cell_type": "code",
   "execution_count": 58,
   "metadata": {
    "collapsed": false
   },
   "outputs": [
    {
     "data": {
      "text/plain": [
       "['/activities-bicycling-ac1',\n",
       " '/activities-conditioning-exercise-ac2',\n",
       " '/activities-dancing-ac3',\n",
       " '/activities-fishing-hunting-ac4',\n",
       " '/activities-home-activities-ac5',\n",
       " '/activities-home-repair-ac6',\n",
       " '/activities-inactivity-ac7',\n",
       " '/activities-lawn-garden-ac8',\n",
       " '/activities-miscellaneous-ac9',\n",
       " '/activities-music-playing-ac10',\n",
       " '/activities-occupation-ac11',\n",
       " '/activities-religious-activities-ac20',\n",
       " '/activities-running-ac12',\n",
       " '/activities-self-care-hygiene-ac13',\n",
       " '/activities-sexual-activity-ac14',\n",
       " '/activities-sports-ac15',\n",
       " '/activities-transportation-ac16',\n",
       " '/activities-volunteer-activities-ac21',\n",
       " '/activities-walking-ac17',\n",
       " '/activities-water-activities-ac18',\n",
       " '/activities-winter-activities-ac19']"
      ]
     },
     "execution_count": 58,
     "metadata": {},
     "output_type": "execute_result"
    }
   ],
   "source": [
    "### Get the exercise bundle links\n",
    "ExerciseTypeLinks"
   ]
  },
  {
   "cell_type": "code",
   "execution_count": 49,
   "metadata": {
    "collapsed": false
   },
   "outputs": [
    {
     "data": {
      "text/plain": [
       "['https://www.caloriecount.com/activities-bicycling-ac1',\n",
       " 'https://www.caloriecount.com/activities-conditioning-exercise-ac2',\n",
       " 'https://www.caloriecount.com/activities-dancing-ac3',\n",
       " 'https://www.caloriecount.com/activities-fishing-hunting-ac4',\n",
       " 'https://www.caloriecount.com/activities-home-activities-ac5',\n",
       " 'https://www.caloriecount.com/activities-home-repair-ac6',\n",
       " 'https://www.caloriecount.com/activities-inactivity-ac7',\n",
       " 'https://www.caloriecount.com/activities-lawn-garden-ac8',\n",
       " 'https://www.caloriecount.com/activities-miscellaneous-ac9',\n",
       " 'https://www.caloriecount.com/activities-music-playing-ac10',\n",
       " 'https://www.caloriecount.com/activities-occupation-ac11',\n",
       " 'https://www.caloriecount.com/activities-religious-activities-ac20',\n",
       " 'https://www.caloriecount.com/activities-running-ac12',\n",
       " 'https://www.caloriecount.com/activities-self-care-hygiene-ac13',\n",
       " 'https://www.caloriecount.com/activities-sexual-activity-ac14',\n",
       " 'https://www.caloriecount.com/activities-sports-ac15',\n",
       " 'https://www.caloriecount.com/activities-transportation-ac16',\n",
       " 'https://www.caloriecount.com/activities-volunteer-activities-ac21',\n",
       " 'https://www.caloriecount.com/activities-walking-ac17',\n",
       " 'https://www.caloriecount.com/activities-water-activities-ac18',\n",
       " 'https://www.caloriecount.com/activities-winter-activities-ac19']"
      ]
     },
     "execution_count": 49,
     "metadata": {},
     "output_type": "execute_result"
    }
   ],
   "source": [
    "fl=ExerciseTypeLinks[:]\n",
    "for i in range(len(fl)):\n",
    "    fl[i]=\"https://www.caloriecount.com\"+fl[i]\n",
    "fl"
   ]
  },
  {
   "cell_type": "code",
   "execution_count": 60,
   "metadata": {
    "collapsed": false
   },
   "outputs": [
    {
     "data": {
      "text/plain": [
       "['https://www.caloriecount.com/calories-burned-aerobic-a36',\n",
       " 'https://www.caloriecount.com/calories-burned-aerobic-a40',\n",
       " 'https://www.caloriecount.com/calories-burned-aerobic-a39',\n",
       " 'https://www.caloriecount.com/calories-burned-aerobic-a38',\n",
       " 'https://www.caloriecount.com/calories-burned-aerobic-a37',\n",
       " 'https://www.caloriecount.com/calories-burned-anishinaabe-jingle-dancing-other-a45',\n",
       " 'https://www.caloriecount.com/calories-burned-ballet-modern-a35',\n",
       " 'https://www.caloriecount.com/calories-burned-ballroom-a42',\n",
       " 'https://www.caloriecount.com/calories-burned-ballroom-a43',\n",
       " 'https://www.caloriecount.com/calories-burned-ballroom-a44',\n",
       " 'https://www.caloriecount.com/calories-burned-general-a41']"
      ]
     },
     "execution_count": 60,
     "metadata": {},
     "output_type": "execute_result"
    }
   ],
   "source": [
    "    page = requests.get(fl[2])\n",
    "    tree = html.fromstring(page.content)\n",
    "    exlinks=tree.xpath('//*[@id=\"content\"]/div[1]/div[3]/ul/li/a/@href')\n",
    "    exlinks"
   ]
  },
  {
   "cell_type": "code",
   "execution_count": 80,
   "metadata": {
    "collapsed": false
   },
   "outputs": [
    {
     "ename": "IndexError",
     "evalue": "list index out of range",
     "output_type": "error",
     "traceback": [
      "\u001b[1;31m---------------------------------------------------------------------------\u001b[0m",
      "\u001b[1;31mIndexError\u001b[0m                                Traceback (most recent call last)",
      "\u001b[1;32m<ipython-input-80-67f6c74532f8>\u001b[0m in \u001b[0;36m<module>\u001b[1;34m()\u001b[0m\n\u001b[0;32m      6\u001b[0m     \u001b[0mprint\u001b[0m\u001b[1;33m(\u001b[0m\u001b[0mtree\u001b[0m\u001b[1;33m.\u001b[0m\u001b[0mxpath\u001b[0m\u001b[1;33m(\u001b[0m\u001b[1;34m'//*[@id=\"activityitem\"]/span/text()'\u001b[0m\u001b[1;33m)\u001b[0m\u001b[1;33m,\u001b[0m\u001b[0mfile\u001b[0m\u001b[1;33m=\u001b[0m\u001b[0mfo\u001b[0m\u001b[1;33m)\u001b[0m\u001b[1;33m\u001b[0m\u001b[0m\n\u001b[0;32m      7\u001b[0m     \u001b[0mprint\u001b[0m\u001b[1;33m(\u001b[0m\u001b[0mtree\u001b[0m\u001b[1;33m.\u001b[0m\u001b[0mxpath\u001b[0m\u001b[1;33m(\u001b[0m\u001b[1;34m'//*[@id=\"activityitem\"]/text()[3]'\u001b[0m\u001b[1;33m)\u001b[0m\u001b[1;33m[\u001b[0m\u001b[1;36m0\u001b[0m\u001b[1;33m]\u001b[0m\u001b[1;33m,\u001b[0m\u001b[0mfile\u001b[0m\u001b[1;33m=\u001b[0m\u001b[0mfo\u001b[0m\u001b[1;33m)\u001b[0m\u001b[1;33m\u001b[0m\u001b[0m\n\u001b[1;32m----> 8\u001b[1;33m     \u001b[0mprint\u001b[0m\u001b[1;33m(\u001b[0m\u001b[0mtree\u001b[0m\u001b[1;33m.\u001b[0m\u001b[0mxpath\u001b[0m\u001b[1;33m(\u001b[0m\u001b[1;34m'//*[@id=\"activityitem\"]/text()[6]'\u001b[0m\u001b[1;33m)\u001b[0m\u001b[1;33m[\u001b[0m\u001b[1;36m0\u001b[0m\u001b[1;33m]\u001b[0m\u001b[1;33m,\u001b[0m\u001b[0mfile\u001b[0m\u001b[1;33m=\u001b[0m\u001b[0mfo\u001b[0m\u001b[1;33m)\u001b[0m\u001b[1;33m\u001b[0m\u001b[0m\n\u001b[0m\u001b[0;32m      9\u001b[0m     \u001b[0mprint\u001b[0m\u001b[1;33m(\u001b[0m\u001b[1;34m\"www.caloriecount.com\"\u001b[0m\u001b[1;33m,\u001b[0m\u001b[0mfile\u001b[0m\u001b[1;33m=\u001b[0m\u001b[0mfo\u001b[0m\u001b[1;33m)\u001b[0m\u001b[1;33m\u001b[0m\u001b[0m\n",
      "\u001b[1;31mIndexError\u001b[0m: list index out of range"
     ]
    }
   ],
   "source": [
    "fo = open(\"ActivityCalories_from_caloriecount_dot_com.txt\", \"w\")\n",
    "for i in range(len(exlinks)):\n",
    "    page = requests.get(exlinks[i])\n",
    "    tree = html.fromstring(page.content)\n",
    "    print(tree.xpath('//*[@id=\"activityitem\"]/h1/text()')[0],file=fo,flush=)\n",
    "    print(tree.xpath('//*[@id=\"activityitem\"]/span/text()'),file=fo)\n",
    "    print(tree.xpath('//*[@id=\"activityitem\"]/text()[6]')[0],file=fo)\n",
    "    print(tree.xpath('//*[@id=\"activityitem\"]/text()[3]')[0],file=fo)\n"
   ]
  },
  {
   "cell_type": "code",
   "execution_count": 75,
   "metadata": {
    "collapsed": false
   },
   "outputs": [
    {
     "name": "stdout",
     "output_type": "stream",
     "text": [
      "Help on built-in function print in module builtins:\n",
      "\n",
      "print(...)\n",
      "    print(value, ..., sep=' ', end='\\n', file=sys.stdout, flush=False)\n",
      "    \n",
      "    Prints the values to a stream, or to sys.stdout by default.\n",
      "    Optional keyword arguments:\n",
      "    file:  a file-like object (stream); defaults to the current sys.stdout.\n",
      "    sep:   string inserted between values, default a space.\n",
      "    end:   string appended after the last value, default a newline.\n",
      "    flush: whether to forcibly flush the stream.\n",
      "\n"
     ]
    }
   ],
   "source": [
    "help(print)"
   ]
  },
  {
   "cell_type": "code",
   "execution_count": null,
   "metadata": {
    "collapsed": true
   },
   "outputs": [],
   "source": []
  }
 ],
 "metadata": {
  "kernelspec": {
   "display_name": "Python 3",
   "language": "python",
   "name": "python3"
  },
  "language_info": {
   "codemirror_mode": {
    "name": "ipython",
    "version": 3
   },
   "file_extension": ".py",
   "mimetype": "text/x-python",
   "name": "python",
   "nbconvert_exporter": "python",
   "pygments_lexer": "ipython3",
   "version": "3.5.1"
  }
 },
 "nbformat": 4,
 "nbformat_minor": 0
}
